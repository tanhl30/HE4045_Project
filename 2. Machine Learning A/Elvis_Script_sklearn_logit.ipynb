{
 "cells": [
  {
   "cell_type": "code",
   "execution_count": 1,
   "metadata": {},
   "outputs": [],
   "source": [
    "from sklearn.model_selection import train_test_split\n",
    "from sklearn.preprocessing import StandardScaler, OneHotEncoder, LabelEncoder\n",
    "from sklearn.metrics import classification_report, confusion_matrix, accuracy_score\n",
    "from sklearn.linear_model import LogisticRegression\n",
    "import seaborn as sns\n",
    "import matplotlib.pyplot as plt"
   ]
  },
  {
   "cell_type": "code",
   "execution_count": 2,
   "metadata": {},
   "outputs": [
    {
     "data": {
      "text/plain": [
       "(257777, 30)"
      ]
     },
     "execution_count": 2,
     "metadata": {},
     "output_type": "execute_result"
    }
   ],
   "source": [
    "import pandas as pd\n",
    "loan=pd.read_csv('../.Database/merged_cleaned_loan.csv')\n",
    "loan.shape"
   ]
  },
  {
   "cell_type": "code",
   "execution_count": 3,
   "metadata": {},
   "outputs": [],
   "source": [
    "# Drop non-numerical columns from X\n",
    "X=loan.drop(columns=['addr_state','emp_title','issue_d','loan_status','issue_d','issue_y','issue_m','title'])\n",
    "\n",
    "# Drop annual_inc, to use log_annual_inc\n",
    "X=X.drop(columns=['annual_inc'])\n",
    "\n",
    "# Drop outcome variables from X\n",
    "X=X.drop(columns=['loan_status_grouped','grade','sub_grade', 'int_rate'])\n",
    "\n",
    "# Select outcome variable for Y\n",
    "y=loan['loan_status_grouped']\n",
    "\n",
    "def transform_emp_length(emp_length):\n",
    "    if emp_length in [\"< 1 year\", \"1 year\"]:\n",
    "        return \"0-1 year\"\n",
    "    elif emp_length in [\"2 years\", \"3 years\", \"4 years\", \"5 years\"]:\n",
    "        return \"2-5 years\"\n",
    "    elif emp_length in [\"6 years\", \"7 years\", \"8 years\", \"9 years\", \"10 years\"]:\n",
    "        return \"6-10 years\"\n",
    "    elif emp_length == \"10+ years\":\n",
    "        return \"> 10 years\"\n",
    "    \n",
    "X['emp_length'] = X['emp_length'].apply(transform_emp_length)"
   ]
  },
  {
   "cell_type": "code",
   "execution_count": 4,
   "metadata": {},
   "outputs": [
    {
     "data": {
      "text/plain": [
       "(257777, 18)"
      ]
     },
     "execution_count": 4,
     "metadata": {},
     "output_type": "execute_result"
    }
   ],
   "source": [
    "X.shape"
   ]
  },
  {
   "cell_type": "code",
   "execution_count": 5,
   "metadata": {},
   "outputs": [
    {
     "data": {
      "text/html": [
       "<div>\n",
       "<style scoped>\n",
       "    .dataframe tbody tr th:only-of-type {\n",
       "        vertical-align: middle;\n",
       "    }\n",
       "\n",
       "    .dataframe tbody tr th {\n",
       "        vertical-align: top;\n",
       "    }\n",
       "\n",
       "    .dataframe thead th {\n",
       "        text-align: right;\n",
       "    }\n",
       "</style>\n",
       "<table border=\"1\" class=\"dataframe\">\n",
       "  <thead>\n",
       "    <tr style=\"text-align: right;\">\n",
       "      <th></th>\n",
       "      <th>delinq_2yrs</th>\n",
       "      <th>dti</th>\n",
       "      <th>emp_length</th>\n",
       "      <th>funded_amnt</th>\n",
       "      <th>home_ownership</th>\n",
       "      <th>inq_last_6mths</th>\n",
       "      <th>installment</th>\n",
       "      <th>loan_amnt</th>\n",
       "      <th>mths_since_last_delinq</th>\n",
       "      <th>pub_rec</th>\n",
       "      <th>purpose</th>\n",
       "      <th>term</th>\n",
       "      <th>total_acc</th>\n",
       "      <th>total_pymnt</th>\n",
       "      <th>acc_now_delinq</th>\n",
       "      <th>log_annual_inc</th>\n",
       "      <th>Effective Federal Funds Rate</th>\n",
       "      <th>state_unemployment</th>\n",
       "    </tr>\n",
       "  </thead>\n",
       "  <tbody>\n",
       "    <tr>\n",
       "      <th>0</th>\n",
       "      <td>0.0</td>\n",
       "      <td>27.65</td>\n",
       "      <td>&gt; 10 years</td>\n",
       "      <td>5000</td>\n",
       "      <td>RENT</td>\n",
       "      <td>1.0</td>\n",
       "      <td>162.87</td>\n",
       "      <td>5000</td>\n",
       "      <td>0.0</td>\n",
       "      <td>0.0</td>\n",
       "      <td>credit_card</td>\n",
       "      <td>36 months</td>\n",
       "      <td>9.0</td>\n",
       "      <td>5861.071414</td>\n",
       "      <td>0.0</td>\n",
       "      <td>10.085809</td>\n",
       "      <td>0.07</td>\n",
       "      <td>8.8</td>\n",
       "    </tr>\n",
       "    <tr>\n",
       "      <th>1</th>\n",
       "      <td>0.0</td>\n",
       "      <td>1.00</td>\n",
       "      <td>0-1 year</td>\n",
       "      <td>2500</td>\n",
       "      <td>RENT</td>\n",
       "      <td>5.0</td>\n",
       "      <td>59.83</td>\n",
       "      <td>2500</td>\n",
       "      <td>0.0</td>\n",
       "      <td>0.0</td>\n",
       "      <td>car</td>\n",
       "      <td>60 months</td>\n",
       "      <td>4.0</td>\n",
       "      <td>1008.710000</td>\n",
       "      <td>0.0</td>\n",
       "      <td>10.308953</td>\n",
       "      <td>0.07</td>\n",
       "      <td>9.6</td>\n",
       "    </tr>\n",
       "    <tr>\n",
       "      <th>2</th>\n",
       "      <td>0.0</td>\n",
       "      <td>8.72</td>\n",
       "      <td>&gt; 10 years</td>\n",
       "      <td>2400</td>\n",
       "      <td>RENT</td>\n",
       "      <td>2.0</td>\n",
       "      <td>84.33</td>\n",
       "      <td>2400</td>\n",
       "      <td>0.0</td>\n",
       "      <td>0.0</td>\n",
       "      <td>small_business</td>\n",
       "      <td>36 months</td>\n",
       "      <td>10.0</td>\n",
       "      <td>3003.653644</td>\n",
       "      <td>0.0</td>\n",
       "      <td>9.413444</td>\n",
       "      <td>0.07</td>\n",
       "      <td>9.5</td>\n",
       "    </tr>\n",
       "    <tr>\n",
       "      <th>3</th>\n",
       "      <td>0.0</td>\n",
       "      <td>20.00</td>\n",
       "      <td>&gt; 10 years</td>\n",
       "      <td>10000</td>\n",
       "      <td>RENT</td>\n",
       "      <td>1.0</td>\n",
       "      <td>339.31</td>\n",
       "      <td>10000</td>\n",
       "      <td>35.0</td>\n",
       "      <td>0.0</td>\n",
       "      <td>other</td>\n",
       "      <td>36 months</td>\n",
       "      <td>37.0</td>\n",
       "      <td>12226.302210</td>\n",
       "      <td>0.0</td>\n",
       "      <td>10.803649</td>\n",
       "      <td>0.07</td>\n",
       "      <td>11.3</td>\n",
       "    </tr>\n",
       "    <tr>\n",
       "      <th>4</th>\n",
       "      <td>0.0</td>\n",
       "      <td>11.20</td>\n",
       "      <td>2-5 years</td>\n",
       "      <td>5000</td>\n",
       "      <td>RENT</td>\n",
       "      <td>3.0</td>\n",
       "      <td>156.46</td>\n",
       "      <td>5000</td>\n",
       "      <td>0.0</td>\n",
       "      <td>0.0</td>\n",
       "      <td>wedding</td>\n",
       "      <td>36 months</td>\n",
       "      <td>12.0</td>\n",
       "      <td>5631.377753</td>\n",
       "      <td>0.0</td>\n",
       "      <td>10.491274</td>\n",
       "      <td>0.07</td>\n",
       "      <td>8.8</td>\n",
       "    </tr>\n",
       "  </tbody>\n",
       "</table>\n",
       "</div>"
      ],
      "text/plain": [
       "   delinq_2yrs    dti  emp_length  funded_amnt home_ownership  inq_last_6mths  \\\n",
       "0          0.0  27.65  > 10 years         5000           RENT             1.0   \n",
       "1          0.0   1.00    0-1 year         2500           RENT             5.0   \n",
       "2          0.0   8.72  > 10 years         2400           RENT             2.0   \n",
       "3          0.0  20.00  > 10 years        10000           RENT             1.0   \n",
       "4          0.0  11.20   2-5 years         5000           RENT             3.0   \n",
       "\n",
       "   installment  loan_amnt  mths_since_last_delinq  pub_rec         purpose  \\\n",
       "0       162.87       5000                     0.0      0.0     credit_card   \n",
       "1        59.83       2500                     0.0      0.0             car   \n",
       "2        84.33       2400                     0.0      0.0  small_business   \n",
       "3       339.31      10000                    35.0      0.0           other   \n",
       "4       156.46       5000                     0.0      0.0         wedding   \n",
       "\n",
       "         term  total_acc   total_pymnt  acc_now_delinq  log_annual_inc  \\\n",
       "0   36 months        9.0   5861.071414             0.0       10.085809   \n",
       "1   60 months        4.0   1008.710000             0.0       10.308953   \n",
       "2   36 months       10.0   3003.653644             0.0        9.413444   \n",
       "3   36 months       37.0  12226.302210             0.0       10.803649   \n",
       "4   36 months       12.0   5631.377753             0.0       10.491274   \n",
       "\n",
       "   Effective Federal Funds Rate  state_unemployment  \n",
       "0                          0.07                 8.8  \n",
       "1                          0.07                 9.6  \n",
       "2                          0.07                 9.5  \n",
       "3                          0.07                11.3  \n",
       "4                          0.07                 8.8  "
      ]
     },
     "execution_count": 5,
     "metadata": {},
     "output_type": "execute_result"
    }
   ],
   "source": [
    "X.head()"
   ]
  },
  {
   "cell_type": "code",
   "execution_count": 6,
   "metadata": {},
   "outputs": [],
   "source": [
    "#Separate numerical and categorical columns\n",
    "categorical_columns = ['home_ownership', 'term','purpose','emp_length']\n",
    "numerical_columns = X.select_dtypes(include=['float64']).columns\n",
    "\n",
    "# Apply OneHotEncoding to categorical columns before splitting\n",
    "# dtype=int to get binary (0 or 1) values\n",
    "X_encoded = pd.get_dummies(X, columns=categorical_columns, dtype=int)\n",
    "\n",
    "# Drop the following dummies to avoid dummy variable trap\n",
    "# This ensures K-1 dummies for K groups\n",
    "# Dropped dummies represent the base group\n",
    "# The coefficients of the regressed dummies will be relative to the base group\n",
    "X_encoded = X_encoded.drop(columns=['home_ownership_MORTGAGE','term_ 36 months','purpose_car','emp_length_0-1 year'])\n",
    "\n",
    "# Now perform the train-test split\n",
    "X_train, X_test, y_train, y_test = train_test_split(X_encoded, y, test_size=0.2, random_state=42)\n",
    "\n",
    "# Ensure the train and test sets have the same structure (dummies already handled)\n",
    "X_train, X_test = X_train.align(X_test, join='left', axis=1, fill_value=0)\n",
    "\n",
    "# Apply scaling to numerical columns\n",
    "scaler = StandardScaler()\n",
    "X_train[numerical_columns] = scaler.fit_transform(X_train[numerical_columns])\n",
    "X_test[numerical_columns] = scaler.transform(X_test[numerical_columns])"
   ]
  },
  {
   "cell_type": "code",
   "execution_count": 7,
   "metadata": {},
   "outputs": [],
   "source": [
    "# Drop rows with NaN values in X_train or y_train\n",
    "X_train = X_train.dropna()\n",
    "# Ensure y_train matches X_train\n",
    "y_train = y_train[X_train.index] \n",
    "\n",
    "# Drop rows with NaN values in X_train or y_train\n",
    "X_test = X_test.dropna()\n",
    "# Ensure y_train matches X_train\n",
    "y_test = y_test[X_test.index] "
   ]
  },
  {
   "cell_type": "code",
   "execution_count": 17,
   "metadata": {},
   "outputs": [
    {
     "name": "stdout",
     "output_type": "stream",
     "text": [
      "Accuracy: 0.93 \n",
      "\n",
      "Classification Report:\n",
      "               precision    recall  f1-score   support\n",
      "\n",
      "         0.0       0.95      0.96      0.95     40173\n",
      "         1.0       0.86      0.80      0.83     11203\n",
      "\n",
      "    accuracy                           0.93     51376\n",
      "   macro avg       0.90      0.88      0.89     51376\n",
      "weighted avg       0.93      0.93      0.93     51376\n",
      "\n"
     ]
    },
    {
     "data": {
      "image/png": "[encoded data removed]",
      "text/plain": [
       "<Figure size 640x480 with 2 Axes>"
      ]
     },
     "metadata": {},
     "output_type": "display_data"
    }
   ],
   "source": [
    "# Fit logistic regression model\n",
    "model = LogisticRegression(solver='liblinear',max_iter=1000)\n",
    "model.fit(X_train, y_train)\n",
    "\n",
    "prob = model.predict_proba(X_test)[:, 1]\n",
    "threshold = 0.4\n",
    "y_pred = (prob >= threshold).astype(int)\n",
    "\n",
    "# Evaluate the model\n",
    "accuracy = accuracy_score(y_test, y_pred)\n",
    "conf_matrix = confusion_matrix(y_test, y_pred)\n",
    "class_report = classification_report(y_test, y_pred)\n",
    "\n",
    "# Print the results\n",
    "print(f'Accuracy: {accuracy:.2f}',\"\\n\")\n",
    "print(\"Classification Report:\\n\", class_report)\n",
    "\n",
    "sns.heatmap(conf_matrix, annot=True, fmt='.0f', cmap='Blues', cbar=True, xticklabels=['0', '1'], yticklabels=['0', '1'])\n",
    "plt.title('Confusion Matrix')\n",
    "plt.xlabel('Predicted Labels')\n",
    "plt.ylabel('True Labels')\n",
    "plt.show()"
   ]
  }
 ],
 "metadata": {
  "kernelspec": {
   "display_name": "Python 3",
   "language": "python",
   "name": "python3"
  },
  "language_info": {
   "codemirror_mode": {
    "name": "ipython",
    "version": 3
   },
   "file_extension": ".py",
   "mimetype": "text/x-python",
   "name": "python",
   "nbconvert_exporter": "python",
   "pygments_lexer": "ipython3",
   "version": "3.11.9"
  }
 },
 "nbformat": 4,
 "nbformat_minor": 2
}
