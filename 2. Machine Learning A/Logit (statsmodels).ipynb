{
 "cells": [
  {
   "cell_type": "code",
   "execution_count": 1,
   "metadata": {},
   "outputs": [],
   "source": [
    "import pandas as pd\n",
    "import numpy as np\n",
    "from sklearn.model_selection import train_test_split\n",
    "from sklearn.preprocessing import StandardScaler, OneHotEncoder, LabelEncoder\n",
    "from statsmodels.stats.outliers_influence import variance_inflation_factor\n",
    "from imblearn.over_sampling import SMOTE\n",
    "import statsmodels.api as sm"
   ]
  },
  {
   "cell_type": "code",
   "execution_count": 2,
   "metadata": {},
   "outputs": [],
   "source": [
    "loan=pd.read_csv('../.Database/merged_cleaned_loan.csv')"
   ]
  },
  {
   "cell_type": "code",
   "execution_count": 3,
   "metadata": {},
   "outputs": [
    {
     "data": {
      "text/plain": [
       "home_ownership\n",
       "MORTGAGE    126680\n",
       "RENT        109239\n",
       "OWN          21638\n",
       "OTHER          176\n",
       "NONE            43\n",
       "ANY              1\n",
       "Name: count, dtype: int64"
      ]
     },
     "execution_count": 3,
     "metadata": {},
     "output_type": "execute_result"
    }
   ],
   "source": [
    "loan['home_ownership'].value_counts()"
   ]
  },
  {
   "cell_type": "code",
   "execution_count": 4,
   "metadata": {},
   "outputs": [],
   "source": [
    "# As there is only 1 observation with home_ownership = ANY,\n",
    "# we will drop that observation to avoid issues with regression\n",
    "loan = loan.drop(loan[loan['home_ownership'] == 'ANY'].index)"
   ]
  },
  {
   "cell_type": "code",
   "execution_count": 5,
   "metadata": {},
   "outputs": [],
   "source": [
    "# Drop non-numerical columns from X\n",
    "X=loan.drop(columns=['addr_state','emp_title','issue_d','loan_status','issue_d','issue_y','issue_m','title'])\n",
    "\n",
    "# Drop annual_inc, to use log_annual_inc\n",
    "X=X.drop(columns=['annual_inc'])\n",
    "\n",
    "# Drop outcome variables from X\n",
    "X=X.drop(columns=['loan_status_grouped','grade','sub_grade', 'int_rate'])\n",
    "\n",
    "# Select outcome variable for Y\n",
    "y=loan['loan_status_grouped']\n",
    "\n",
    "# Encode emp_length into 4 categories: 0-1 year, 2-5 years, 6-10 years, > 10 years\n",
    "def transform_emp_length(emp_length):\n",
    "    if emp_length in [\"< 1 year\", \"1 year\"]:\n",
    "        return \"0-1 year\"\n",
    "    elif emp_length in [\"2 years\", \"3 years\", \"4 years\", \"5 years\"]:\n",
    "        return \"2-5 years\"\n",
    "    elif emp_length in [\"6 years\", \"7 years\", \"8 years\", \"9 years\", \"10 years\"]:\n",
    "        return \"6-10 years\"\n",
    "    elif emp_length == \"10+ years\":\n",
    "        return \"> 10 years\"\n",
    "    \n",
    "X['emp_length'] = X['emp_length'].apply(transform_emp_length)"
   ]
  },
  {
   "cell_type": "code",
   "execution_count": 6,
   "metadata": {},
   "outputs": [],
   "source": [
    "#Separate numerical and categorical columns\n",
    "categorical_columns = ['home_ownership', 'term','purpose','emp_length']\n",
    "numerical_columns = X.select_dtypes(include=['float64']).columns\n",
    "\n",
    "# Apply OneHotEncoding to categorical columns before splitting\n",
    "# dtype=int to get binary (0 or 1) values\n",
    "X_encoded = pd.get_dummies(X, columns=categorical_columns, dtype=int)\n",
    "\n",
    "# Drop the following dummies to avoid dummy variable trap\n",
    "# This ensures K-1 dummies for K groups\n",
    "# Dropped dummies represent the base group\n",
    "# The coefficients of the regressed dummies will be relative to the base group\n",
    "X_encoded = X_encoded.drop(columns=['home_ownership_MORTGAGE','term_ 36 months','purpose_car','emp_length_0-1 year'])\n",
    "\n",
    "# Now perform the train-test split\n",
    "X_train, X_test, y_train, y_test = train_test_split(X_encoded, y, test_size=0.2, random_state=42)\n",
    "\n",
    "# Ensure the train and test sets have the same structure (dummies already handled)\n",
    "X_train, X_test = X_train.align(X_test, join='left', axis=1, fill_value=0)\n",
    "\n",
    "# Apply scaling to numerical columns\n",
    "scaler = StandardScaler()\n",
    "X_train[numerical_columns] = scaler.fit_transform(X_train[numerical_columns])\n",
    "X_test[numerical_columns] = scaler.transform(X_test[numerical_columns])"
   ]
  },
  {
   "cell_type": "code",
   "execution_count": 7,
   "metadata": {},
   "outputs": [],
   "source": [
    "# Drop rows with NaN values\n",
    "X_train = X_train.dropna()\n",
    "X_test = X_test.dropna()\n",
    "\n",
    "# Ensure y_train matches X_train, y_test matches X_test\n",
    "y_train = y_train[X_train.index]\n",
    "y_test = y_test[X_test.index]"
   ]
  },
  {
   "cell_type": "code",
   "execution_count": 8,
   "metadata": {},
   "outputs": [
    {
     "name": "stdout",
     "output_type": "stream",
     "text": [
      "                         feature         VIF\n",
      "0                    delinq_2yrs    1.047603\n",
      "1                            dti    1.270416\n",
      "2                    funded_amnt  874.788313\n",
      "3                 inq_last_6mths    1.061080\n",
      "4                    installment   17.404901\n",
      "5                      loan_amnt  807.069198\n",
      "6         mths_since_last_delinq    1.037117\n",
      "7                        pub_rec    1.036836\n",
      "8                      total_acc    1.365080\n",
      "9                    total_pymnt    2.981011\n",
      "10                acc_now_delinq    1.015745\n",
      "11                log_annual_inc    1.682447\n",
      "12  Effective Federal Funds Rate    1.065828\n",
      "13            state_unemployment    1.116852\n",
      "14           home_ownership_NONE    1.001245\n",
      "15          home_ownership_OTHER    1.003394\n",
      "16            home_ownership_OWN    1.193708\n",
      "17           home_ownership_RENT    2.182010\n",
      "18               term_ 60 months    3.115471\n",
      "19           purpose_credit_card   10.466752\n",
      "20    purpose_debt_consolidation   28.963796\n",
      "21           purpose_educational    1.087819\n",
      "22      purpose_home_improvement    3.792334\n",
      "23                 purpose_house    1.311337\n",
      "24        purpose_major_purchase    2.158277\n",
      "25               purpose_medical    1.505126\n",
      "26                purpose_moving    1.368557\n",
      "27                 purpose_other    3.552306\n",
      "28      purpose_renewable_energy    1.046067\n",
      "29        purpose_small_business    1.875270\n",
      "30              purpose_vacation    1.287233\n",
      "31               purpose_wedding    1.355123\n",
      "32          emp_length_2-5 years    2.995216\n",
      "33         emp_length_6-10 years    2.317373\n",
      "34         emp_length_> 10 years    3.124686\n"
     ]
    }
   ],
   "source": [
    "# Checking for higher collinear predictors\n",
    "vif_data = pd.DataFrame()\n",
    "vif_data[\"feature\"] = X_train.columns\n",
    "vif_data[\"VIF\"] = [variance_inflation_factor(X_train.values, i) for i in range(X_train.shape[1])]\n",
    "print(vif_data)\n",
    "\n",
    "# Drop highly collinear predictors from X_train and X_test\n",
    "X_train = X_train.drop(columns=['funded_amnt','loan_amnt','total_pymnt','installment'])\n",
    "X_test = X_test.drop(columns=['funded_amnt','loan_amnt','total_pymnt','installment'])"
   ]
  },
  {
   "cell_type": "code",
   "execution_count": 9,
   "metadata": {},
   "outputs": [],
   "source": [
    "# The data has about 5 times as many repaid loans (0) as defaulted loans (1)\n",
    "# Such class balance issues can skew predictions greatly\n",
    "# We can use SMOTE (Synthetic Minority Over-sampling Technique) to oversample the minority class\n",
    "smote = SMOTE(random_state=42)\n",
    "X_train, y_train = smote.fit_resample(X_train, y_train)"
   ]
  },
  {
   "cell_type": "code",
   "execution_count": 10,
   "metadata": {},
   "outputs": [
    {
     "name": "stdout",
     "output_type": "stream",
     "text": [
      "Optimization terminated successfully.\n",
      "         Current function value: 0.636582\n",
      "         Iterations 6\n"
     ]
    }
   ],
   "source": [
    "# Using statsmodels library to run Logit Regression\n",
    "\n",
    "# Add a constant to the independent variables\n",
    "X_train_with_const = sm.add_constant(X_train)\n",
    "X_test_with_const = sm.add_constant(X_test)\n",
    "\n",
    "# Fit the logistic regression model\n",
    "logit_model = sm.Logit(y_train, X_train_with_const)\n",
    "\n",
    "# Fit the model and obtain the result object\n",
    "result = logit_model.fit(maxiter=1000)"
   ]
  },
  {
   "cell_type": "code",
   "execution_count": 11,
   "metadata": {},
   "outputs": [
    {
     "name": "stdout",
     "output_type": "stream",
     "text": [
      "                            Logit Regression Results                           \n",
      "===============================================================================\n",
      "Dep. Variable:     loan_status_grouped   No. Observations:               322574\n",
      "Model:                           Logit   Df Residuals:                   322542\n",
      "Method:                            MLE   Df Model:                           31\n",
      "Date:                 Sat, 26 Oct 2024   Pseudo R-squ.:                 0.08161\n",
      "Time:                         18:17:29   Log-Likelihood:            -2.0534e+05\n",
      "converged:                        True   LL-Null:                   -2.2359e+05\n",
      "Covariance Type:             nonrobust   LLR p-value:                     0.000\n",
      "================================================================================================\n",
      "                                   coef    std err          z      P>|z|      [0.025      0.975]\n",
      "------------------------------------------------------------------------------------------------\n",
      "const                            1.7777      0.024     72.691      0.000       1.730       1.826\n",
      "delinq_2yrs                      0.0858      0.004     22.244      0.000       0.078       0.093\n",
      "dti                              0.3272      0.004     77.005      0.000       0.319       0.336\n",
      "inq_last_6mths                   0.1306      0.004     33.600      0.000       0.123       0.138\n",
      "mths_since_last_delinq           0.0218      0.004      5.702      0.000       0.014       0.029\n",
      "pub_rec                          0.0163      0.004      4.370      0.000       0.009       0.024\n",
      "total_acc                       -0.1921      0.005    -42.351      0.000      -0.201      -0.183\n",
      "acc_now_delinq                   0.0054      0.004      1.446      0.148      -0.002       0.013\n",
      "log_annual_inc                  -0.1654      0.005    -36.614      0.000      -0.174      -0.157\n",
      "Effective Federal Funds Rate    -0.0440      0.004    -11.193      0.000      -0.052      -0.036\n",
      "state_unemployment              -0.1280      0.004    -31.486      0.000      -0.136      -0.120\n",
      "home_ownership_NONE             -1.8988      0.540     -3.514      0.000      -2.958      -0.840\n",
      "home_ownership_OTHER            -1.0278      0.226     -4.555      0.000      -1.470      -0.586\n",
      "home_ownership_OWN              -0.3725      0.015    -24.561      0.000      -0.402      -0.343\n",
      "home_ownership_RENT              0.0554      0.008      6.532      0.000       0.039       0.072\n",
      "term_ 60 months                  0.7791      0.009     88.908      0.000       0.762       0.796\n",
      "purpose_credit_card             -1.9605      0.024    -80.712      0.000      -2.008      -1.913\n",
      "purpose_debt_consolidation      -1.7656      0.023    -76.166      0.000      -1.811      -1.720\n",
      "purpose_educational             -2.8478      0.133    -21.415      0.000      -3.108      -2.587\n",
      "purpose_home_improvement        -1.9631      0.028    -69.841      0.000      -2.018      -1.908\n",
      "purpose_house                   -2.6392      0.064    -40.947      0.000      -2.766      -2.513\n",
      "purpose_major_purchase          -2.4783      0.037    -67.074      0.000      -2.551      -2.406\n",
      "purpose_medical                 -2.1779      0.046    -46.879      0.000      -2.269      -2.087\n",
      "purpose_moving                  -2.2183      0.052    -42.342      0.000      -2.321      -2.116\n",
      "purpose_other                   -1.7954      0.028    -65.029      0.000      -1.850      -1.741\n",
      "purpose_renewable_energy        -2.8629      0.170    -16.793      0.000      -3.197      -2.529\n",
      "purpose_small_business          -1.3927      0.036    -39.212      0.000      -1.462      -1.323\n",
      "purpose_vacation                -2.5562      0.065    -39.256      0.000      -2.684      -2.429\n",
      "purpose_wedding                 -2.8860      0.064    -45.088      0.000      -3.011      -2.761\n",
      "emp_length_2-5 years            -0.3371      0.011    -30.221      0.000      -0.359      -0.315\n",
      "emp_length_6-10 years           -0.3154      0.012    -25.713      0.000      -0.339      -0.291\n",
      "emp_length_> 10 years           -0.3204      0.011    -28.062      0.000      -0.343      -0.298\n",
      "================================================================================================\n"
     ]
    }
   ],
   "source": [
    "# Print the summary of the logistic regression results\n",
    "print(result.summary())"
   ]
  },
  {
   "cell_type": "code",
   "execution_count": 12,
   "metadata": {},
   "outputs": [
    {
     "name": "stdout",
     "output_type": "stream",
     "text": [
      "\n",
      "Odds Ratios\n",
      " const                           5.915979\n",
      "term_ 60 months                 2.179576\n",
      "dti                             1.387065\n",
      "inq_last_6mths                  1.139564\n",
      "delinq_2yrs                     1.089556\n",
      "home_ownership_RENT             1.056945\n",
      "mths_since_last_delinq          1.022018\n",
      "pub_rec                         1.016456\n",
      "acc_now_delinq                  1.005455\n",
      "Effective Federal Funds Rate    0.956983\n",
      "state_unemployment              0.879857\n",
      "log_annual_inc                  0.847572\n",
      "total_acc                       0.825195\n",
      "emp_length_6-10 years           0.729532\n",
      "emp_length_> 10 years           0.725875\n",
      "emp_length_2-5 years            0.713854\n",
      "home_ownership_OWN              0.689036\n",
      "home_ownership_OTHER            0.357781\n",
      "purpose_small_business          0.248397\n",
      "purpose_debt_consolidation      0.171083\n",
      "purpose_other                   0.166060\n",
      "home_ownership_NONE             0.149754\n",
      "purpose_credit_card             0.140782\n",
      "purpose_home_improvement        0.140426\n",
      "purpose_medical                 0.113280\n",
      "purpose_moving                  0.108793\n",
      "purpose_major_purchase          0.083889\n",
      "purpose_vacation                0.077599\n",
      "purpose_house                   0.071415\n",
      "purpose_educational             0.057970\n",
      "purpose_renewable_energy        0.057100\n",
      "purpose_wedding                 0.055800\n",
      "dtype: float64\n"
     ]
    }
   ],
   "source": [
    "# Print odds ratios in descending order\n",
    "odds_ratios = np.exp(result.params)\n",
    "odds_ratios = pd.Series(odds_ratios)\n",
    "odds_ratios = odds_ratios.sort_values(ascending=False)\n",
    "print('\\nOdds Ratios\\n',odds_ratios)\n",
    "\n",
    "# Odds ratios are predicted probabilities of the effect of X variables\n",
    "# odds_ratio > 1 : variable increases the probability of default (by odds_ratio - 1)\n",
    "# odds_ratio < 1 : variable decreases the probability of default (by 1 - odds_ratio)\n",
    "# odds_ratio = 1 : variable has no effect on the probability of default"
   ]
  }
 ],
 "metadata": {
  "kernelspec": {
   "display_name": "Python 3",
   "language": "python",
   "name": "python3"
  },
  "language_info": {
   "codemirror_mode": {
    "name": "ipython",
    "version": 3
   },
   "file_extension": ".py",
   "mimetype": "text/x-python",
   "name": "python",
   "nbconvert_exporter": "python",
   "pygments_lexer": "ipython3",
   "version": "3.11.9"
  }
 },
 "nbformat": 4,
 "nbformat_minor": 2
}
