{
 "cells": [
  {
   "cell_type": "code",
   "execution_count": 1,
   "metadata": {},
   "outputs": [
    {
     "name": "stdout",
     "output_type": "stream",
     "text": [
      "Optimization terminated successfully.\n",
      "         Current function value: 0.486338\n",
      "         Iterations 6\n",
      "                            Logit Regression Results                           \n",
      "===============================================================================\n",
      "Dep. Variable:     loan_status_grouped   No. Observations:               206220\n",
      "Model:                           Logit   Df Residuals:                   206187\n",
      "Method:                            MLE   Df Model:                           32\n",
      "Date:                 Thu, 31 Oct 2024   Pseudo R-squ.:                 0.06580\n",
      "Time:                         17:09:44   Log-Likelihood:            -1.0029e+05\n",
      "converged:                        True   LL-Null:                   -1.0736e+05\n",
      "Covariance Type:             nonrobust   LLR p-value:                     0.000\n",
      "================================================================================================\n",
      "                                   coef    std err          z      P>|z|      [0.025      0.975]\n",
      "------------------------------------------------------------------------------------------------\n",
      "const                           -2.0362      0.058    -35.364      0.000      -2.149      -1.923\n",
      "delinq_2yrs                      0.1065      0.005     20.275      0.000       0.096       0.117\n",
      "dti                              0.2727      0.006     44.369      0.000       0.261       0.285\n",
      "inq_last_6mths                   0.1592      0.005     29.046      0.000       0.148       0.170\n",
      "loan_amnt                        0.2303      0.007     31.167      0.000       0.216       0.245\n",
      "mths_since_last_delinq           0.0364      0.006      6.447      0.000       0.025       0.047\n",
      "pub_rec                          0.0493      0.005      9.146      0.000       0.039       0.060\n",
      "total_acc                       -0.1523      0.007    -22.790      0.000      -0.165      -0.139\n",
      "acc_now_delinq                   0.0146      0.005      2.901      0.004       0.005       0.024\n",
      "log_annual_inc                  -0.2748      0.008    -35.750      0.000      -0.290      -0.260\n",
      "Effective Federal Funds Rate    -0.0079      0.006     -1.391      0.164      -0.019       0.003\n",
      "state_unemployment              -0.1076      0.006    -18.108      0.000      -0.119      -0.096\n",
      "home_ownership_NONE             -0.5447      0.538     -1.012      0.312      -1.600       0.511\n",
      "home_ownership_OTHER             0.2870      0.223      1.286      0.199      -0.151       0.725\n",
      "home_ownership_OWN               0.1185      0.021      5.670      0.000       0.078       0.159\n",
      "home_ownership_RENT              0.3030      0.013     23.814      0.000       0.278       0.328\n",
      "term_ 60 months                  0.7818      0.013     58.290      0.000       0.755       0.808\n",
      "purpose_credit_card              0.1758      0.057      3.078      0.002       0.064       0.288\n",
      "purpose_debt_consolidation       0.3107      0.056      5.543      0.000       0.201       0.421\n",
      "purpose_educational              0.3074      0.154      1.991      0.047       0.005       0.610\n",
      "purpose_home_improvement         0.3845      0.061      6.340      0.000       0.266       0.503\n",
      "purpose_house                    0.2647      0.089      2.976      0.003       0.090       0.439\n",
      "purpose_major_purchase           0.1706      0.068      2.516      0.012       0.038       0.303\n",
      "purpose_medical                  0.6468      0.075      8.599      0.000       0.499       0.794\n",
      "purpose_moving                   0.6162      0.081      7.605      0.000       0.457       0.775\n",
      "purpose_other                    0.5663      0.060      9.487      0.000       0.449       0.683\n",
      "purpose_renewable_energy         0.5573      0.181      3.071      0.002       0.202       0.913\n",
      "purpose_small_business           1.0350      0.066     15.716      0.000       0.906       1.164\n",
      "purpose_vacation                 0.5352      0.091      5.888      0.000       0.357       0.713\n",
      "purpose_wedding                 -0.0349      0.094     -0.373      0.709      -0.218       0.149\n",
      "emp_length_10+ years            -0.0136      0.018     -0.769      0.442      -0.048       0.021\n",
      "emp_length_2-5 years            -0.0323      0.017     -1.889      0.059      -0.066       0.001\n",
      "emp_length_6-9 years             0.0308      0.019      1.653      0.098      -0.006       0.067\n",
      "================================================================================================\n"
     ]
    }
   ],
   "source": [
    "# your_notebook.ipynb\n",
    "\n",
    "# Import the models\n",
    "from model1 import train_logistic_regression\n",
    "from model2 import train_xgb_model\n",
    "\n",
    "# Specify the paths to your datasets\n",
    "cleaned_data_path = '../.Database/logit_predictions.csv'\n",
    "original_data_path = '../.Database/merged_cleaned_loan.csv'\n",
    "\n",
    "# Train the logistic regression model\n",
    "logistic_result, X_test_logit, y_test_logit = train_logistic_regression(original_data_path)\n",
    "\n",
    "# Output the logistic regression results\n",
    "print(logistic_result.summary())\n",
    "\n",
    "# Train the XGBoost model\n",
    "xgb_model, X_test_xgb, y_test_xgb = train_xgb_model(cleaned_data_path, original_data_path)\n",
    "\n",
    "# You can also make predictions and evaluate the models here\n",
    "# Example for XGBoost\n",
    "predictions = xgb_model.predict(X_test_xgb)\n"
   ]
  },
  {
   "cell_type": "code",
   "execution_count": 2,
   "metadata": {},
   "outputs": [
    {
     "data": {
      "text/plain": [
       "array([0.1247493 , 0.11128344, 0.09076538, ..., 0.13748506, 0.12035507,\n",
       "       0.10956188], dtype=float32)"
      ]
     },
     "execution_count": 2,
     "metadata": {},
     "output_type": "execute_result"
    }
   ],
   "source": [
    "predictions"
   ]
  },
  {
   "cell_type": "code",
   "execution_count": null,
   "metadata": {},
   "outputs": [],
   "source": []
  }
 ],
 "metadata": {
  "kernelspec": {
   "display_name": "Python 3",
   "language": "python",
   "name": "python3"
  },
  "language_info": {
   "codemirror_mode": {
    "name": "ipython",
    "version": 3
   },
   "file_extension": ".py",
   "mimetype": "text/x-python",
   "name": "python",
   "nbconvert_exporter": "python",
   "pygments_lexer": "ipython3",
   "version": "3.11.9"
  }
 },
 "nbformat": 4,
 "nbformat_minor": 2
}
