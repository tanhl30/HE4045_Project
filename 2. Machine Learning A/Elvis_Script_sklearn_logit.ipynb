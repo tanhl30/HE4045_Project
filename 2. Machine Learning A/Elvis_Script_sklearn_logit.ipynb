{
 "cells": [
  {
   "cell_type": "code",
   "execution_count": 1,
   "metadata": {},
   "outputs": [],
   "source": [
    "import pandas as pd\n",
    "from sklearn.model_selection import train_test_split\n",
    "from sklearn.preprocessing import StandardScaler, OneHotEncoder, LabelEncoder\n",
    "from imblearn.over_sampling import SMOTE\n",
    "from sklearn.metrics import classification_report, confusion_matrix, accuracy_score\n",
    "from sklearn.linear_model import LogisticRegression\n",
    "import seaborn as sns\n",
    "import matplotlib.pyplot as plt"
   ]
  },
  {
   "cell_type": "code",
   "execution_count": 2,
   "metadata": {},
   "outputs": [],
   "source": [
    "loan=pd.read_csv('../.Database/merged_cleaned_loan.csv')"
   ]
  },
  {
   "cell_type": "code",
   "execution_count": 3,
   "metadata": {},
   "outputs": [],
   "source": [
    "# Drop non-numerical columns from X\n",
    "X=loan.drop(columns=['addr_state','emp_title','issue_d','loan_status','issue_d','issue_y','issue_m','title'])\n",
    "\n",
    "# Drop annual_inc, we are using log_annual_inc\n",
    "X=X.drop(columns=['annual_inc'])\n",
    "\n",
    "# Drop outcome variables from X\n",
    "X=X.drop(columns=['loan_status_grouped','grade','sub_grade', 'int_rate'])\n",
    "\n",
    "# Select outcome variable for Y\n",
    "y=loan['loan_status_grouped']\n",
    "\n",
    "# Encode emp_length into 4 categories: 0-1 year, 2-5 years, 6-10 years, > 10 years\n",
    "def transform_emp_length(emp_length):\n",
    "    if emp_length in [\"< 1 year\", \"1 year\"]:\n",
    "        return \"0-1 year\"\n",
    "    elif emp_length in [\"2 years\", \"3 years\", \"4 years\", \"5 years\"]:\n",
    "        return \"2-5 years\"\n",
    "    elif emp_length in [\"6 years\", \"7 years\", \"8 years\", \"9 years\", \"10 years\"]:\n",
    "        return \"6-10 years\"\n",
    "    elif emp_length == \"10+ years\":\n",
    "        return \"> 10 years\"\n",
    "    \n",
    "X['emp_length'] = X['emp_length'].apply(transform_emp_length)"
   ]
  },
  {
   "cell_type": "code",
   "execution_count": 4,
   "metadata": {},
   "outputs": [],
   "source": [
    "#Separate numerical and categorical columns\n",
    "categorical_columns = ['home_ownership', 'term','purpose','emp_length']\n",
    "numerical_columns = X.select_dtypes(include=['float64']).columns\n",
    "\n",
    "# Apply OneHotEncoding to categorical columns before splitting\n",
    "# dtype=int to get binary (0 or 1) values\n",
    "X_encoded = pd.get_dummies(X, columns=categorical_columns, dtype=int)\n",
    "\n",
    "# Now perform the train-test split\n",
    "X_train, X_test, y_train, y_test = train_test_split(X_encoded, y, test_size=0.2, random_state=42)\n",
    "\n",
    "# Ensure the train and test sets have the same structure (dummies already handled)\n",
    "X_train, X_test = X_train.align(X_test, join='left', axis=1, fill_value=0)\n",
    "\n",
    "# Apply scaling to numerical columns\n",
    "scaler = StandardScaler()\n",
    "X_train[numerical_columns] = scaler.fit_transform(X_train[numerical_columns])\n",
    "X_test[numerical_columns] = scaler.transform(X_test[numerical_columns])"
   ]
  },
  {
   "cell_type": "code",
   "execution_count": 5,
   "metadata": {},
   "outputs": [],
   "source": [
    "# Drop rows with NaN values\n",
    "X_train = X_train.dropna()\n",
    "X_test = X_test.dropna()\n",
    "\n",
    "# Ensure y_train matches X_train, y_test matches X_test\n",
    "y_train = y_train[X_train.index]\n",
    "y_test = y_test[X_test.index]"
   ]
  },
  {
   "cell_type": "code",
   "execution_count": 6,
   "metadata": {},
   "outputs": [],
   "source": [
    "# The data contains 5 times as many repaid loans (0) as defaulted loans (1)\n",
    "# Such class balance issues can skew predictions greatly\n",
    "# We can use SMOTE (Synthetic Minority Over-sampling Technique) to oversample the minority class\n",
    "smote = SMOTE(random_state=42)\n",
    "X_train, y_train = smote.fit_resample(X_train, y_train)"
   ]
  },
  {
   "cell_type": "code",
   "execution_count": 7,
   "metadata": {},
   "outputs": [
    {
     "name": "stdout",
     "output_type": "stream",
     "text": [
      "Accuracy: 0.97 \n",
      "\n",
      "Classification Report:\n",
      "               precision    recall  f1-score   support\n",
      "\n",
      "         0.0       0.99      0.98      0.98     40173\n",
      "         1.0       0.93      0.95      0.94     11203\n",
      "\n",
      "    accuracy                           0.97     51376\n",
      "   macro avg       0.96      0.96      0.96     51376\n",
      "weighted avg       0.97      0.97      0.97     51376\n",
      "\n"
     ]
    },
    {
     "data": {
      "image/png": "[encoded data removed]",
      "text/plain": [
       "<Figure size 640x480 with 2 Axes>"
      ]
     },
     "metadata": {},
     "output_type": "display_data"
    }
   ],
   "source": [
    "# Using sklearn library to run Logit Regression\n",
    "\n",
    "# Fit logistic regression model\n",
    "model = LogisticRegression(solver='liblinear',max_iter=1000)\n",
    "model.fit(X_train, y_train)\n",
    "\n",
    "# Making predictions with a decision threshold of 0.3\n",
    "prob = model.predict_proba(X_test)[:, 1]\n",
    "threshold = 0.3\n",
    "y_pred = (prob >= threshold).astype(int)\n",
    "\n",
    "# Generating evaluation metrics\n",
    "accuracy = accuracy_score(y_test, y_pred)\n",
    "conf_matrix = confusion_matrix(y_test, y_pred)\n",
    "class_report = classification_report(y_test, y_pred)\n",
    "\n",
    "# Print the results\n",
    "print(f'Accuracy: {accuracy:.2f}',\"\\n\")\n",
    "print(\"Classification Report:\\n\", class_report)\n",
    "\n",
    "# Plotting heatmap for confusion matrix\n",
    "sns.heatmap(conf_matrix, annot=True, fmt='.0f', cmap='Blues', cbar=True, xticklabels=['0', '1'], yticklabels=['0', '1'])\n",
    "plt.title('Confusion Matrix')\n",
    "plt.xlabel('Predicted Labels')\n",
    "plt.ylabel('True Labels')\n",
    "plt.show()"
   ]
  }
 ],
 "metadata": {
  "kernelspec": {
   "display_name": "Python 3",
   "language": "python",
   "name": "python3"
  },
  "language_info": {
   "codemirror_mode": {
    "name": "ipython",
    "version": 3
   },
   "file_extension": ".py",
   "mimetype": "text/x-python",
   "name": "python",
   "nbconvert_exporter": "python",
   "pygments_lexer": "ipython3",
   "version": "3.11.9"
  }
 },
 "nbformat": 4,
 "nbformat_minor": 2
}
