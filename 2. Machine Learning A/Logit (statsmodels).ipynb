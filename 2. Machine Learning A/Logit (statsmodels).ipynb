{
 "cells": [
  {
   "cell_type": "code",
   "execution_count": 1,
   "metadata": {},
   "outputs": [],
   "source": [
    "import pandas as pd\n",
    "import numpy as np\n",
    "from sklearn.model_selection import train_test_split\n",
    "from sklearn.preprocessing import StandardScaler, OneHotEncoder, LabelEncoder\n",
    "from statsmodels.stats.outliers_influence import variance_inflation_factor\n",
    "from imblearn.over_sampling import SMOTE\n",
    "import statsmodels.api as sm"
   ]
  },
  {
   "cell_type": "code",
   "execution_count": 2,
   "metadata": {},
   "outputs": [],
   "source": [
    "loan=pd.read_csv('../.Database/merged_cleaned_loan.csv')"
   ]
  },
  {
   "cell_type": "code",
   "execution_count": 3,
   "metadata": {},
   "outputs": [
    {
     "data": {
      "text/plain": [
       "home_ownership\n",
       "MORTGAGE    126680\n",
       "RENT        109239\n",
       "OWN          21638\n",
       "OTHER          176\n",
       "NONE            43\n",
       "ANY              1\n",
       "Name: count, dtype: int64"
      ]
     },
     "execution_count": 3,
     "metadata": {},
     "output_type": "execute_result"
    }
   ],
   "source": [
    "loan['home_ownership'].value_counts()"
   ]
  },
  {
   "cell_type": "code",
   "execution_count": 4,
   "metadata": {},
   "outputs": [],
   "source": [
    "# As there is only 1 observation with home_ownership = ANY,\n",
    "# we will drop that observation to avoid issues with regression\n",
    "loan = loan.drop(loan[loan['home_ownership'] == 'ANY'].index)"
   ]
  },
  {
   "cell_type": "code",
   "execution_count": 5,
   "metadata": {},
   "outputs": [],
   "source": [
    "# Drop non-numerical columns from X\n",
    "X=loan.drop(columns=['addr_state','emp_title','loan_status','issue_d','issue_y','issue_m','title'])\n",
    "\n",
    "# Drop annual_inc, to use log_annual_inc\n",
    "X=X.drop(columns=['annual_inc'])\n",
    "\n",
    "# Drop outcome variables from X\n",
    "X=X.drop(columns=['loan_status_grouped','grade','sub_grade', 'int_rate'])\n",
    "\n",
    "# Select outcome variable for Y\n",
    "y=loan['loan_status_grouped']"
   ]
  },
  {
   "cell_type": "code",
   "execution_count": 6,
   "metadata": {},
   "outputs": [],
   "source": [
    "#Separate numerical and categorical columns\n",
    "categorical_columns = ['home_ownership', 'term','purpose','emp_length']\n",
    "numerical_columns = X.select_dtypes(include=['float64']).columns\n",
    "\n",
    "# Apply OneHotEncoding to categorical columns before splitting\n",
    "# dtype=int to get binary (0 or 1) values\n",
    "X_encoded = pd.get_dummies(X, columns=categorical_columns, dtype=int)\n",
    "\n",
    "# Drop the following dummies to avoid dummy variable trap\n",
    "# This ensures K-1 dummies for K groups\n",
    "# Dropped dummies represent the base group\n",
    "# The coefficients of the regressed dummies will be relative to the base group\n",
    "X_encoded = X_encoded.drop(columns=['home_ownership_MORTGAGE','term_ 36 months','purpose_car','emp_length_0-1 years'])\n",
    "\n",
    "# Now perform the train-test split\n",
    "X_train, X_test, y_train, y_test = train_test_split(X_encoded, y, test_size=0.2, random_state=42)\n",
    "\n",
    "# Ensure the train and test sets have the same structure (dummies already handled)\n",
    "X_train, X_test = X_train.align(X_test, join='left', axis=1, fill_value=0)\n",
    "\n",
    "# Apply scaling to numerical columns\n",
    "scaler = StandardScaler()\n",
    "X_train[numerical_columns] = scaler.fit_transform(X_train[numerical_columns])\n",
    "X_test[numerical_columns] = scaler.transform(X_test[numerical_columns])"
   ]
  },
  {
   "cell_type": "code",
   "execution_count": 7,
   "metadata": {},
   "outputs": [],
   "source": [
    "# Drop rows with NaN values\n",
    "X_train = X_train.dropna()\n",
    "X_test = X_test.dropna()\n",
    "\n",
    "# Ensure y_train matches X_train, y_test matches X_test\n",
    "y_train = y_train[X_train.index]\n",
    "y_test = y_test[X_test.index]"
   ]
  },
  {
   "cell_type": "code",
   "execution_count": 9,
   "metadata": {},
   "outputs": [
    {
     "name": "stdout",
     "output_type": "stream",
     "text": [
      "                         feature       VIF\n",
      "0                    delinq_2yrs  1.042407\n",
      "1                            dti  1.247989\n",
      "2                 inq_last_6mths  1.050614\n",
      "3                      loan_amnt  1.690072\n",
      "4         mths_since_last_delinq  1.033256\n",
      "5                        pub_rec  1.033332\n",
      "6                      total_acc  1.359023\n",
      "7                 acc_now_delinq  1.015170\n",
      "8                 log_annual_inc  1.687369\n",
      "9   Effective Federal Funds Rate  1.057405\n",
      "10            state_unemployment  1.093257\n",
      "11           home_ownership_NONE  1.001198\n",
      "12          home_ownership_OTHER  1.003501\n",
      "13            home_ownership_OWN  1.189636\n",
      "14           home_ownership_RENT  2.168830\n",
      "15               term_ 60 months  1.579519\n",
      "16           purpose_credit_card  2.343303\n",
      "17    purpose_debt_consolidation  5.209311\n",
      "18           purpose_educational  1.021347\n",
      "19      purpose_home_improvement  1.396010\n",
      "20                 purpose_house  1.053488\n",
      "21        purpose_major_purchase  1.180971\n",
      "22               purpose_medical  1.082787\n",
      "23                purpose_moving  1.062099\n",
      "24                 purpose_other  1.428530\n",
      "25      purpose_renewable_energy  1.008246\n",
      "26        purpose_small_business  1.138048\n",
      "27              purpose_vacation  1.055253\n",
      "28               purpose_wedding  1.059354\n",
      "29          emp_length_10+ years  3.019393\n",
      "30          emp_length_2-5 years  2.901804\n",
      "31          emp_length_6-9 years  2.252706\n"
     ]
    }
   ],
   "source": [
    "# Checking for higher collinear predictors\n",
    "vif_data = pd.DataFrame()\n",
    "vif_data[\"feature\"] = X_train.columns\n",
    "vif_data[\"VIF\"] = [variance_inflation_factor(X_train.values, i) for i in range(X_train.shape[1])]\n",
    "print(vif_data)"
   ]
  },
  {
   "cell_type": "code",
   "execution_count": 10,
   "metadata": {},
   "outputs": [],
   "source": [
    "# The data has about 5 times as many repaid loans (0) as defaulted loans (1)\n",
    "# Such class balance issues can skew predictions greatly\n",
    "# We can use SMOTE (Synthetic Minority Over-sampling Technique) to oversample the minority class\n",
    "smote = SMOTE(random_state=42)\n",
    "X_train, y_train = smote.fit_resample(X_train, y_train)"
   ]
  },
  {
   "cell_type": "code",
   "execution_count": 11,
   "metadata": {},
   "outputs": [
    {
     "name": "stdout",
     "output_type": "stream",
     "text": [
      "Optimization terminated successfully.\n",
      "         Current function value: 0.626021\n",
      "         Iterations 6\n"
     ]
    }
   ],
   "source": [
    "# Using statsmodels library to run Logit Regression\n",
    "\n",
    "# Add a constant to the independent variables\n",
    "X_train_with_const = sm.add_constant(X_train)\n",
    "X_test_with_const = sm.add_constant(X_test)\n",
    "\n",
    "# Fit the logistic regression model\n",
    "logit_model = sm.Logit(y_train, X_train_with_const)\n",
    "\n",
    "# Fit the model and obtain the result object\n",
    "result = logit_model.fit(maxiter=1000)"
   ]
  },
  {
   "cell_type": "code",
   "execution_count": 12,
   "metadata": {},
   "outputs": [
    {
     "name": "stdout",
     "output_type": "stream",
     "text": [
      "                            Logit Regression Results                           \n",
      "===============================================================================\n",
      "Dep. Variable:     loan_status_grouped   No. Observations:               323738\n",
      "Model:                           Logit   Df Residuals:                   323705\n",
      "Method:                            MLE   Df Model:                           32\n",
      "Date:                 Wed, 30 Oct 2024   Pseudo R-squ.:                 0.09684\n",
      "Time:                         23:18:39   Log-Likelihood:            -2.0267e+05\n",
      "converged:                        True   LL-Null:                   -2.2440e+05\n",
      "Covariance Type:             nonrobust   LLR p-value:                     0.000\n",
      "================================================================================================\n",
      "                                   coef    std err          z      P>|z|      [0.025      0.975]\n",
      "------------------------------------------------------------------------------------------------\n",
      "const                            2.0782      0.024     85.378      0.000       2.031       2.126\n",
      "delinq_2yrs                      0.0947      0.004     24.184      0.000       0.087       0.102\n",
      "dti                              0.3098      0.004     71.927      0.000       0.301       0.318\n",
      "inq_last_6mths                   0.1436      0.004     36.262      0.000       0.136       0.151\n",
      "loan_amnt                        0.2950      0.005     57.972      0.000       0.285       0.305\n",
      "mths_since_last_delinq           0.0328      0.004      8.503      0.000       0.025       0.040\n",
      "pub_rec                          0.0297      0.004      7.756      0.000       0.022       0.037\n",
      "total_acc                       -0.2061      0.005    -44.837      0.000      -0.215      -0.197\n",
      "acc_now_delinq                   0.0039      0.004      1.024      0.306      -0.004       0.011\n",
      "log_annual_inc                  -0.3251      0.005    -61.801      0.000      -0.335      -0.315\n",
      "Effective Federal Funds Rate    -0.0453      0.004    -11.245      0.000      -0.053      -0.037\n",
      "state_unemployment              -0.1189      0.004    -28.909      0.000      -0.127      -0.111\n",
      "home_ownership_NONE             -1.9480      0.542     -3.595      0.000      -3.010      -0.886\n",
      "home_ownership_OTHER            -1.0549      0.221     -4.774      0.000      -1.488      -0.622\n",
      "home_ownership_OWN              -0.4747      0.016    -30.556      0.000      -0.505      -0.444\n",
      "home_ownership_RENT              0.0164      0.009      1.911      0.056      -0.000       0.033\n",
      "term_ 60 months                  0.5550      0.010     58.215      0.000       0.536       0.574\n",
      "purpose_credit_card             -2.1932      0.024    -90.606      0.000      -2.241      -2.146\n",
      "purpose_debt_consolidation      -1.9900      0.023    -86.257      0.000      -2.035      -1.945\n",
      "purpose_educational             -3.0021      0.133    -22.645      0.000      -3.262      -2.742\n",
      "purpose_home_improvement        -2.1870      0.028    -77.528      0.000      -2.242      -2.132\n",
      "purpose_house                   -2.9488      0.066    -44.635      0.000      -3.078      -2.819\n",
      "purpose_major_purchase          -2.6879      0.038    -71.279      0.000      -2.762      -2.614\n",
      "purpose_medical                 -2.2534      0.047    -48.108      0.000      -2.345      -2.162\n",
      "purpose_moving                  -2.2717      0.053    -43.132      0.000      -2.375      -2.168\n",
      "purpose_other                   -1.9166      0.028    -69.382      0.000      -1.971      -1.862\n",
      "purpose_renewable_energy        -2.9071      0.169    -17.195      0.000      -3.238      -2.576\n",
      "purpose_small_business          -1.7017      0.036    -47.379      0.000      -1.772      -1.631\n",
      "purpose_vacation                -2.5457      0.065    -38.910      0.000      -2.674      -2.417\n",
      "purpose_wedding                 -3.2354      0.069    -46.920      0.000      -3.371      -3.100\n",
      "emp_length_10+ years            -0.3782      0.011    -33.043      0.000      -0.401      -0.356\n",
      "emp_length_2-5 years            -0.3881      0.011    -34.720      0.000      -0.410      -0.366\n",
      "emp_length_6-9 years            -0.3749      0.012    -30.441      0.000      -0.399      -0.351\n",
      "================================================================================================\n"
     ]
    }
   ],
   "source": [
    "# Print the summary of the logistic regression results\n",
    "print(result.summary())"
   ]
  },
  {
   "cell_type": "code",
   "execution_count": 13,
   "metadata": {},
   "outputs": [
    {
     "name": "stdout",
     "output_type": "stream",
     "text": [
      "\n",
      "Odds Ratios\n",
      " const                           7.990251\n",
      "term_ 60 months                 1.741865\n",
      "dti                             1.363149\n",
      "loan_amnt                       1.343167\n",
      "inq_last_6mths                  1.154451\n",
      "delinq_2yrs                     1.099380\n",
      "mths_since_last_delinq          1.033328\n",
      "pub_rec                         1.030115\n",
      "home_ownership_RENT             1.016499\n",
      "acc_now_delinq                  1.003895\n",
      "Effective Federal Funds Rate    0.955707\n",
      "state_unemployment              0.887938\n",
      "total_acc                       0.813764\n",
      "log_annual_inc                  0.722447\n",
      "emp_length_6-9 years            0.687386\n",
      "emp_length_10+ years            0.685114\n",
      "emp_length_2-5 years            0.678367\n",
      "home_ownership_OWN              0.622077\n",
      "home_ownership_OTHER            0.348216\n",
      "purpose_small_business          0.182366\n",
      "purpose_other                   0.147107\n",
      "home_ownership_NONE             0.142560\n",
      "purpose_debt_consolidation      0.136690\n",
      "purpose_home_improvement        0.112253\n",
      "purpose_credit_card             0.111564\n",
      "purpose_medical                 0.105045\n",
      "purpose_moving                  0.103137\n",
      "purpose_vacation                0.078422\n",
      "purpose_major_purchase          0.068020\n",
      "purpose_renewable_energy        0.054633\n",
      "purpose_house                   0.052401\n",
      "purpose_educational             0.049682\n",
      "purpose_wedding                 0.039345\n",
      "dtype: float64\n"
     ]
    }
   ],
   "source": [
    "# Print odds ratios in descending order\n",
    "odds_ratios = np.exp(result.params)\n",
    "odds_ratios = pd.Series(odds_ratios)\n",
    "odds_ratios = odds_ratios.sort_values(ascending=False)\n",
    "print('\\nOdds Ratios\\n',odds_ratios)\n",
    "\n",
    "# Odds ratios are predicted probabilities of the effect of X variables\n",
    "# odds_ratio > 1 : variable increases the probability of default (by odds_ratio - 1)\n",
    "# odds_ratio < 1 : variable decreases the probability of default (by 1 - odds_ratio)\n",
    "# odds_ratio = 1 : variable has no effect on the probability of default"
   ]
  }
 ],
 "metadata": {
  "kernelspec": {
   "display_name": "Python 3",
   "language": "python",
   "name": "python3"
  },
  "language_info": {
   "codemirror_mode": {
    "name": "ipython",
    "version": 3
   },
   "file_extension": ".py",
   "mimetype": "text/x-python",
   "name": "python",
   "nbconvert_exporter": "python",
   "pygments_lexer": "ipython3",
   "version": "3.11.9"
  }
 },
 "nbformat": 4,
 "nbformat_minor": 2
}
