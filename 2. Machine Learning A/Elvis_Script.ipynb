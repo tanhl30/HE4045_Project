{
 "cells": [
  {
   "cell_type": "code",
   "execution_count": 260,
   "metadata": {},
   "outputs": [],
   "source": [
    "import pandas as pd\n",
    "from sklearn.model_selection import train_test_split\n",
    "from sklearn.preprocessing import StandardScaler, OneHotEncoder, LabelEncoder\n",
    "import statsmodels.api as sm\n",
    "from sklearn.metrics import classification_report, confusion_matrix, accuracy_score\n",
    "import seaborn as sns\n",
    "import matplotlib.pyplot as plt"
   ]
  },
  {
   "cell_type": "code",
   "execution_count": null,
   "metadata": {},
   "outputs": [],
   "source": [
    "loan=pd.read_csv('../cleaned_loan.csv')\n",
    "loan.shape"
   ]
  },
  {
   "cell_type": "code",
   "execution_count": 262,
   "metadata": {},
   "outputs": [],
   "source": [
    "X=loan.drop(columns=['loan_status','loan_status_grouped','emp_title','purpose','title','issue_d','grade'])\n",
    "y=loan['loan_status_grouped']"
   ]
  },
  {
   "cell_type": "code",
   "execution_count": null,
   "metadata": {},
   "outputs": [],
   "source": [
    "X.shape"
   ]
  },
  {
   "cell_type": "code",
   "execution_count": null,
   "metadata": {},
   "outputs": [],
   "source": [
    "X.head()"
   ]
  },
  {
   "cell_type": "code",
   "execution_count": 265,
   "metadata": {},
   "outputs": [],
   "source": [
    "# Encode sub_grade into numerical values\n",
    "def sub_grades_encoding(x):\n",
    "    grade_mapping = {'A': 7, 'B': 6, 'C': 5, 'D': 4, 'E': 3, 'F': 2, 'G': 1}\n",
    "    number_mapping = {'1': 0.8, '2': 0.6, '3': 0.4, '4': 0.2, '5': 0.0}\n",
    "    \n",
    "    val = grade_mapping.get(x[0], 0) + number_mapping.get(x[1], 0)\n",
    "    return val\n",
    "\n",
    "X['sub_grade']= X['sub_grade'].apply(sub_grades_encoding)\n",
    "\n",
    "#Separate numerical and non-numerical columns\n",
    "ordinal_columns = ['emp_length']\n",
    "categorical_columns = ['home_ownership', 'term']\n",
    "numerical_columns = X.select_dtypes(include=['float64']).columns\n",
    "\n",
    "# Apply Label Encoding to ordinal columns before splitting\n",
    "le = LabelEncoder()\n",
    "for col in ordinal_columns:\n",
    "    X[col] = le.fit_transform(X[col])\n",
    "\n",
    "# Apply OneHotEncoding to categorical columns before splitting\n",
    "X_encoded = pd.get_dummies(X, columns=categorical_columns)\n",
    "\n",
    "# Now perform the train-test split\n",
    "X_train, X_test, y_train, y_test = train_test_split(X_encoded, y, test_size=0.2, random_state=42)\n",
    "\n",
    "# Ensure the train and test sets have the same structure (dummies already handled)\n",
    "X_train, X_test = X_train.align(X_test, join='left', axis=1, fill_value=0)\n",
    "\n",
    "# Apply scaling to numerical columns\n",
    "scaler = StandardScaler()\n",
    "X_train[numerical_columns] = scaler.fit_transform(X_train[numerical_columns])\n",
    "X_test[numerical_columns] = scaler.transform(X_test[numerical_columns])"
   ]
  },
  {
   "cell_type": "code",
   "execution_count": null,
   "metadata": {},
   "outputs": [],
   "source": [
    "# Convert columns in X_train to numeric\n",
    "boolean_columns = ['home_ownership_ANY','home_ownership_MORTGAGE', 'home_ownership_NONE','home_ownership_OTHER','home_ownership_OWN','home_ownership_RENT','term_ 36 months','term_ 60 months']\n",
    "X_train[boolean_columns] = X_train[boolean_columns].astype(int)\n",
    "X_test[boolean_columns] = X_test[boolean_columns].astype(int)\n",
    "\n",
    "# Dropping variables to avoid multicolinearity and quasi-seperation\n",
    "X_train = X_train.drop(['home_ownership_NONE', 'term_ 36 months', 'funded_amnt', 'installment', 'total_pymnt'], axis=1)\n",
    "X_test = X_test.drop(['home_ownership_NONE', 'term_ 36 months', 'funded_amnt', 'installment', 'total_pymnt'], axis=1)\n",
    "\n",
    "# Convert y_train to numeric (if it is not already)\n",
    "y_train = pd.to_numeric(y_train, errors='coerce')\n",
    "\n",
    "# Drop rows with NaN values in X_train or y_train\n",
    "X_train = X_train.dropna()\n",
    "y_train = y_train[X_train.index]  # Ensure y_train matches X_train\n",
    "\n",
    "X_train"
   ]
  },
  {
   "cell_type": "code",
   "execution_count": null,
   "metadata": {},
   "outputs": [],
   "source": [
    "# Using statsmodels library to run Logit Regression\n",
    "\n",
    "# Add a constant to the independent variables\n",
    "X_train_with_const = sm.add_constant(X_train)\n",
    "X_test_with_const = sm.add_constant(X_test)\n",
    "\n",
    "# Fit the logistic regression model\n",
    "logit_model = sm.Logit(y_train, X_train_with_const)\n",
    "\n",
    "# Fit the model and obtain the result object\n",
    "result = logit_model.fit(maxiter=2000)\n",
    "\n",
    "# Print the summary of the logistic regression results\n",
    "print(result.summary())"
   ]
  },
  {
   "cell_type": "code",
   "execution_count": null,
   "metadata": {},
   "outputs": [],
   "source": [
    "# Make Predictions\n",
    "predicted_probs = result.predict(X_test_with_const)  # Predict probabilities\n",
    "predicted_classes = (predicted_probs >= 0.5).astype(int)  # Convert probabilities to binary classes\n",
    "\n",
    "# Generate evaluation metrics\n",
    "accuracy = accuracy_score(y_test, y_pred)\n",
    "class_report = classification_report(y_test, y_pred)\n",
    "conf_matrix = confusion_matrix(y_test, y_pred)\n",
    "\n",
    "# Print the accuracy score and classication report\n",
    "print(f'Accuracy: {accuracy:.2f}',\"\\n\")\n",
    "print(\"Classification Report:\\n\", class_report)\n",
    "\n",
    "# Plot confusion matrix using seaborn heatmap\n",
    "sns.heatmap(conf_matrix, annot=True, fmt='.0f', cmap='Blues', cbar=True, xticklabels=['0', '1'], yticklabels=['0', '1'])\n",
    "plt.title('Confusion Matrix')\n",
    "plt.xlabel('Predicted Labels')\n",
    "plt.ylabel('True Labels')\n",
    "plt.show()"
   ]
  }
 ],
 "metadata": {
  "kernelspec": {
   "display_name": "Python 3",
   "language": "python",
   "name": "python3"
  },
  "language_info": {
   "codemirror_mode": {
    "name": "ipython",
    "version": 3
   },
   "file_extension": ".py",
   "mimetype": "text/x-python",
   "name": "python",
   "nbconvert_exporter": "python",
   "pygments_lexer": "ipython3",
   "version": "3.11.9"
  }
 },
 "nbformat": 4,
 "nbformat_minor": 2
}
