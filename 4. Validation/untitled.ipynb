{
 "cells": [
  {
   "cell_type": "code",
   "execution_count": null,
   "metadata": {},
   "outputs": [],
   "source": [
    "# Elvis: Moved this here since I removed this from the scripts in \"2. Machine Learning A\"\n",
    "# Encode sub_grade into numerical values\n",
    "def sub_grades_encoding(x):\n",
    "    grade_mapping = {'A': 7, 'B': 6, 'C': 5, 'D': 4, 'E': 3, 'F': 2, 'G': 1}\n",
    "    number_mapping = {'1': 0.8, '2': 0.6, '3': 0.4, '4': 0.2, '5': 0.0}\n",
    "    \n",
    "    val = grade_mapping.get(x[0], 0) + number_mapping.get(x[1], 0)\n",
    "    return val\n",
    "\n",
    "X['sub_grade']= X['sub_grade'].apply(sub_grades_encoding)"
   ]
  }
 ],
 "metadata": {
  "language_info": {
   "name": "python"
  }
 },
 "nbformat": 4,
 "nbformat_minor": 2
}
