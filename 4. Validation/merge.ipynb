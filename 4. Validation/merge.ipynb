{
 "cells": [
  {
   "cell_type": "code",
   "execution_count": 6,
   "metadata": {},
   "outputs": [
    {
     "ename": "ImportError",
     "evalue": "cannot import name 'train_logistic_regression' from 'model1' (c:\\Users\\kevin\\Documents\\HE4045\\HE4045_Project\\4. Validation\\model1.py)",
     "output_type": "error",
     "traceback": [
      "\u001b[1;31m---------------------------------------------------------------------------\u001b[0m",
      "\u001b[1;31mImportError\u001b[0m                               Traceback (most recent call last)",
      "Cell \u001b[1;32mIn[6], line 4\u001b[0m\n\u001b[0;32m      1\u001b[0m \u001b[38;5;66;03m# your_notebook.ipynb\u001b[39;00m\n\u001b[0;32m      2\u001b[0m \n\u001b[0;32m      3\u001b[0m \u001b[38;5;66;03m# Import the models\u001b[39;00m\n\u001b[1;32m----> 4\u001b[0m \u001b[38;5;28;01mfrom\u001b[39;00m \u001b[38;5;21;01mmodel1\u001b[39;00m \u001b[38;5;28;01mimport\u001b[39;00m train_logistic_regression\n\u001b[0;32m      5\u001b[0m \u001b[38;5;28;01mfrom\u001b[39;00m \u001b[38;5;21;01mmodel2\u001b[39;00m \u001b[38;5;28;01mimport\u001b[39;00m train_xgb_model\n\u001b[0;32m      7\u001b[0m \u001b[38;5;66;03m# Specify the paths to your datasets\u001b[39;00m\n",
      "\u001b[1;31mImportError\u001b[0m: cannot import name 'train_logistic_regression' from 'model1' (c:\\Users\\kevin\\Documents\\HE4045\\HE4045_Project\\4. Validation\\model1.py)"
     ]
    }
   ],
   "source": [
    "# your_notebook.ipynb\n",
    "\n",
    "# Import the models\n",
    "from model1 import train_logistic_regression\n",
    "from model2 import train_xgb_model\n",
    "\n",
    "# Specify the paths to your datasets\n",
    "cleaned_data_path = '../.Database/logit_predictions.csv'\n",
    "original_data_path = '../.Database/merged_cleaned_loan.csv'\n",
    "\n",
    "# Train the logistic regression model\n",
    "logistic_result, X_test_logit, y_test_logit = train_logistic_regression(original_data_path)\n",
    "\n",
    "# Output the logistic regression results\n",
    "print(logistic_result.summary())\n",
    "\n",
    "# Train the XGBoost model\n",
    "xgb_model, X_test_xgb, y_test_xgb = train_xgb_model(cleaned_data_path, original_data_path)\n",
    "\n",
    "# You can also make predictions and evaluate the models here\n",
    "# Example for XGBoost\n",
    "predictions = xgb_model.predict(X_test_xgb)\n"
   ]
  },
  {
   "cell_type": "code",
   "execution_count": null,
   "metadata": {},
   "outputs": [],
   "source": []
  }
 ],
 "metadata": {
  "kernelspec": {
   "display_name": "Python 3",
   "language": "python",
   "name": "python3"
  },
  "language_info": {
   "codemirror_mode": {
    "name": "ipython",
    "version": 3
   },
   "file_extension": ".py",
   "mimetype": "text/x-python",
   "name": "python",
   "nbconvert_exporter": "python",
   "pygments_lexer": "ipython3",
   "version": "3.11.9"
  }
 },
 "nbformat": 4,
 "nbformat_minor": 2
}
